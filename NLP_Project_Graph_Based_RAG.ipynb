{
 "cells": [
  {
   "cell_type": "code",
   "execution_count": 22,
   "id": "d11d2b59",
   "metadata": {},
   "outputs": [],
   "source": [
    "import nomic\n",
    "from nomic import embed\n",
    "import numpy as np\n",
    "import os\n",
    "\n",
    "import base64\n",
    "import ollama\n",
    "from ollama import chat\n",
    "from langchain_experimental.graph_transformers.llm import LLMGraphTransformer\n",
    "#from langchain.schema import Document\n",
    "from langchain_ollama.llms import OllamaLLM\n",
    "from langchain_community.graphs import Neo4jGraph\n",
    "from langchain_community.graphs.graph_document import GraphDocument, Node, Relationship\n",
    "from langchain_core.documents import Document\n",
    "#from langchain_community.graphs.graph_store import GraphStore\n",
    "#from langchain_community.graphs.graph_writer import GraphWriter\n",
    "\n",
    "from neo4j import GraphDatabase\n",
    "\n",
    "from llama_index.core import StorageContext\n",
    "from llama_index.graph_stores.neo4j import Neo4jGraphStore\n",
    "from llama_index.core import Settings\n",
    "\n",
    "from llama_index.core.query_engine import RetrieverQueryEngine\n",
    "from llama_index.core.retrievers import KnowledgeGraphRAGRetriever\n",
    "from llama_index.core.response_synthesizers import get_response_synthesizer\n"
   ]
  },
  {
   "cell_type": "code",
   "execution_count": 47,
   "id": "90b52d39",
   "metadata": {},
   "outputs": [],
   "source": [
    "#import deeplake\n",
    "#ds = deeplake.load('hub://activeloop/flickr30k')"
   ]
  },
  {
   "cell_type": "code",
   "execution_count": 23,
   "id": "4c297a54",
   "metadata": {},
   "outputs": [],
   "source": [
    "NEO4J_SERVER_URL = \"bolt://localhost:7687\"\n",
    "NEO4J_DB_NAME= \"ragdb\"\n",
    "NEO4J_LOGIN = os.environ['NEO4J_USER_LOGIN']\n",
    "#NEO4J_LOGIN = \"dituser\"\n",
    "NEO4J_PWD = os.environ['NEO4J_USER_PWD']"
   ]
  },
  {
   "cell_type": "code",
   "execution_count": 24,
   "id": "c7139e94",
   "metadata": {},
   "outputs": [],
   "source": [
    "TEXT_EMBEDDING_MODEL = 'DC1LEX/nomic-embed-text-v1.5-multimodal'\n",
    "VISION_EMBEDDING_MODEL = 'nomic-embed-vision-v1.5'\n",
    "MULTIMODAL_INFERENCE_MODEL = \"gemma3:4b\""
   ]
  },
  {
   "cell_type": "code",
   "execution_count": 25,
   "id": "48ea2d82",
   "metadata": {},
   "outputs": [],
   "source": [
    "IMAGES = [\n",
    "        \"Man.jpg\",\n",
    "        \"People.jpg\",\n",
    "    ]"
   ]
  },
  {
   "cell_type": "code",
   "execution_count": 26,
   "id": "293df4e6",
   "metadata": {},
   "outputs": [],
   "source": [
    "def encode_images(img_paths):\n",
    "    encoded_images = []\n",
    "    for img_path in img_paths:\n",
    "        with open(img_path, \"rb\") as f:\n",
    "            encoded_images.append(base64.b64encode(f.read()).decode(\"utf-8\"))\n",
    "    \n",
    "    return encoded_images\n",
    "\n"
   ]
  },
  {
   "cell_type": "code",
   "execution_count": 27,
   "id": "060a09c3",
   "metadata": {},
   "outputs": [
    {
     "data": {
      "text/plain": [
       "ProgressResponse(status='success', completed=None, total=None, digest=None)"
      ]
     },
     "execution_count": 27,
     "metadata": {},
     "output_type": "execute_result"
    }
   ],
   "source": [
    "ollama.pull(TEXT_EMBEDDING_MODEL)\n",
    "ollama.pull(MULTIMODAL_INFERENCE_MODEL)"
   ]
  },
  {
   "cell_type": "code",
   "execution_count": 28,
   "id": "e5311c9c",
   "metadata": {},
   "outputs": [],
   "source": [
    "def get_img_embedding(img_path):\n",
    "    nomic_api_key = os.environ['NOMIC_API_KEY'] \n",
    "\n",
    "    nomic.login(nomic_api_key)\n",
    "\n",
    "    output = embed.image(\n",
    "        images=[img_path\n",
    "        ],\n",
    "        model=VISION_EMBEDDING_MODEL,\n",
    "    )\n",
    "\n",
    "    #print(output['usage'])\n",
    "    img_embeddings = np.array(output['embeddings'])\n",
    "    #print(img_embeddings)\n",
    "    #print(img_embeddings.shape)\n",
    "    \n",
    "    return img_embeddings[0]\n"
   ]
  },
  {
   "cell_type": "code",
   "execution_count": 29,
   "id": "77cc7de6",
   "metadata": {},
   "outputs": [],
   "source": [
    "def get_text_embedding(txt):\n",
    "    response = ollama.embed(model=TEXT_EMBEDDING_MODEL, input=txt)\n",
    "    txt_embedding = response[\"embeddings\"]\n",
    "    return txt_embedding[0]"
   ]
  },
  {
   "cell_type": "code",
   "execution_count": 30,
   "id": "d5141d7d",
   "metadata": {},
   "outputs": [],
   "source": [
    "def get_node_from_text_prop(graph_doc, txt):\n",
    "    #result = None\n",
    "    for node in graph_doc.nodes:\n",
    "        txt_value = node.properties.get(\"text\")\n",
    "        if txt_value is not None and txt_value == txt:\n",
    "            return node\n",
    "    return None\n",
    "            "
   ]
  },
  {
   "cell_type": "code",
   "execution_count": 40,
   "id": "21721f3d",
   "metadata": {},
   "outputs": [],
   "source": [
    "def llm_txt_search(txt_search, ctx):\n",
    "    response = chat(\n",
    "        model=MULTIMODAL_INFERENCE_MODEL,\n",
    "        messages=[\n",
    "            {\n",
    "                \"role\": \"user\",\n",
    "                \"content\": f\"Answer the question while taking into account the context. \\n question:{txt_search} \\n context:{ctx}\",\n",
    "                #\"images\":[img_b64]\n",
    "            }\n",
    "        ]\n",
    "        \n",
    "    )\n",
    "\n",
    "    result = response['message']['content']\n",
    "    return result"
   ]
  },
  {
   "cell_type": "code",
   "execution_count": 38,
   "id": "04149aef",
   "metadata": {},
   "outputs": [],
   "source": [
    "def format_context_for_rag(neo4j_results):\n",
    "        context_list = []\n",
    "        for record in neo4j_results:\n",
    "            # Extract relevant information from the record\n",
    "            source_entity = record[\"source_id\"]\n",
    "            relationship = record[\"r\"]\n",
    "            neighbor = record[\"dest_id\"]\n",
    "\n",
    "            # Format the extracted information into a string or structured data\n",
    "            # suitable for your RAG model\n",
    "            \"\"\"context_string = (\n",
    "                f\"Source Entity: {source_entity.get('id', 'N/A')}, \"\n",
    "                f\"Relationship: {relationship.type}, \"\n",
    "                f\"Related Entity: {neighbor.get('id', 'N/A')}\"\n",
    "            )\"\"\"\n",
    "            context_string = f\"{source_entity} {relationship.type} {neighbor}\"\n",
    "            \n",
    "            context_list.append(context_string)\n",
    "        return \"\\n\".join(context_list)"
   ]
  },
  {
   "cell_type": "code",
   "execution_count": 55,
   "id": "6e1ce76f",
   "metadata": {},
   "outputs": [
    {
     "name": "stdout",
     "output_type": "stream",
     "text": [
      "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\n",
      "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\n",
      "[\"Here’s a breakdown of the elements visible in the image:\\n\\n**Person:**\\n\\n*   **Main Subject:** There is a man smiling. He has dark skin, a dark beard, and is wearing a blue denim shirt.\\n\\n**Background Elements:**\\n\\n*   **Building:** The background shows a modern building with large windows. The style suggests a contemporary urban setting.\\n*   **Vegetation:** There's a small patch of green vegetation visible at the top of the image, possibly trees or bushes.\\n*   **Sky:** The sky is overcast and gray, indicating a cloudy day.\\n\\n**Overall Impression:**\\n\\nThe image captures a portrait of a smiling man outdoors, likely in a city environment.\", \"Here’s a description of the people, organizations, and events in the image:\\n\\n**People:**\\n\\n*   **Group of Friends:** The image shows a group of approximately 8-10 people. They appear to be close friends or acquaintances, as they're huddled together for a photo. \\n\\n    *   **Man with beard:** A man with a beard, wearing a grey sweater, is the most prominent person on the left.\\n    *   **Woman with red hair:** A woman with vibrant red hair is centrally positioned, smiling broadly.\\n    *   **Other women:** Several other women are visible in the group, all smiling and making eye contact with the camera.\\n    *   **Other men:** There are also two other men smiling.\\n\\n**Events/Occasion:**\\n\\n*   **Group Photo:** The group is posing for a casual group photograph. It seems like a spontaneous moment captured between friends. \\n\\n**In essence, the image depicts a moment of connection and joy shared by a group of friends.**\\n\\nLet me know if you’d like me to elaborate on any particular detail.\"]\n"
     ]
    }
   ],
   "source": [
    "imgs_b64 = encode_images(IMAGES)\n",
    "\n",
    "image_descriptions = []\n",
    "\n",
    "for img_b64 in imgs_b64:\n",
    "    print(img_b64)\n",
    "    response = chat(\n",
    "        model=MULTIMODAL_INFERENCE_MODEL,\n",
    "        messages=[\n",
    "            {\n",
    "                \"role\": \"user\",\n",
    "                \"content\": \"Describe all people, organizations, and events in this image.\",\n",
    "                \"images\":[img_b64]\n",
    "            }\n",
    "        ]\n",
    "        \n",
    "    )\n",
    "\n",
    "    image_description = response['message']['content']\n",
    "    image_descriptions.append(image_description)\n",
    "\n",
    "print(image_descriptions)"
   ]
  },
  {
   "cell_type": "code",
   "execution_count": 56,
   "id": "df4ddfe3",
   "metadata": {},
   "outputs": [],
   "source": [
    "# 1. Your normal Ollama LLM for graph extraction\n",
    "llm = OllamaLLM(model=MULTIMODAL_INFERENCE_MODEL, temperature=0.0)\n",
    "\n",
    "transformer = LLMGraphTransformer(\n",
    "    llm=llm,\n",
    "    #allowed_nodes=[\"Person\", \"Organization\", \"Event\"],\n",
    "    #node_properties=True\n",
    ")\n",
    "\n",
    "# 3) Prepare docs\n",
    "#image docs \n",
    "img_docs = [Document(page_content=img_desc, metadata={\"url\": img_url, \"embedding\":get_text_embedding(img_desc)}) for img_desc, img_url in zip(image_descriptions, IMAGES)]\n",
    "#Text docs then append img_docs\n",
    "doc_text = [\n",
    "    \"Alice works at Acme Corp. She organized a conference in April 2024.\",\n",
    "    \"Bob and Carol co-founded OpenWidgets, a startup focused on widgets.\",\n",
    "]\n",
    "\n",
    "docs = [Document(page_content=txt, metadata={\"embedding\":get_text_embedding(txt)}) for txt in doc_text]\n",
    "\n",
    "docs.extend(img_docs)\n",
    "\n",
    "\n",
    "# 3. Extract graph\n",
    "graph_docs = transformer.convert_to_graph_documents(docs)\n",
    "\n"
   ]
  },
  {
   "cell_type": "code",
   "execution_count": 63,
   "id": "a1b3ec16",
   "metadata": {},
   "outputs": [],
   "source": [
    "# Add embeddings to the nodes of the graph\n",
    "for graph_doc in graph_docs:\n",
    "    \n",
    "    for node in graph_doc.nodes:\n",
    "        node_text = node.properties.get(\"text\")\n",
    "        if node_text is not None :\n",
    "            node.properties[\"embedding\"] = get_text_embedding(node_text)\n",
    "        else : \n",
    "            node_id = node.id\n",
    "            if node_id is not None :\n",
    "                node.properties[\"embedding\"] = get_text_embedding(node_id)\n",
    "\n"
   ]
  },
  {
   "cell_type": "code",
   "execution_count": 64,
   "id": "1ba54803",
   "metadata": {},
   "outputs": [],
   "source": [
    "# Add Image nodes with properties like embedding then relate to the rest of the graph\n",
    "img_id = 0\n",
    "\n",
    "for graph_doc in graph_docs:\n",
    "    # If the source of the graphDoc is the description of an image\n",
    "    graph_source = graph_doc.source\n",
    "    img_url = graph_source.metadata.get(\"url\") \n",
    "       \n",
    "    if img_url is not None:   \n",
    "        #print(img_url) \n",
    "        # Créer un noeud image avec l'URL en question et l'embedding de l'image\n",
    "        img_node = Node(id=f\"img_{img_id}\", type=\"Image\", properties={\"url\": img_url, \"embedding\":get_img_embedding(img_url)})   \n",
    "        \n",
    "        new_relationships = []\n",
    "\n",
    "        # Lier l'image à tous les noeuds du grapheDoc\n",
    "        for node in graph_doc.nodes:\n",
    "            new_relationships.append(Relationship(source=img_node,target=node, type=\"contains\"))\n",
    "        \n",
    "        graph_doc.nodes.append(img_node)\n",
    "        graph_doc.relationships.extend(new_relationships)\n",
    "        img_id += 1\n",
    "\n",
    "    #print(graph_doc)"
   ]
  },
  {
   "cell_type": "code",
   "execution_count": null,
   "id": "c23e2715",
   "metadata": {},
   "outputs": [],
   "source": [
    "# Store Knowledge Graph in Neo4j\n",
    "\n",
    "graph_store = Neo4jGraph(url=NEO4J_SERVER_URL, username=NEO4J_LOGIN, password=NEO4J_PWD, database=NEO4J_DB_NAME)\n",
    "#graph_store.write_graph(graph_docs)\n",
    "\n",
    "#graph_store.\n",
    "graph_store.add_graph_documents(graph_docs, include_source=True)"
   ]
  },
  {
   "cell_type": "markdown",
   "id": "d4925367",
   "metadata": {},
   "source": [
    "## Requête incluant le RAG"
   ]
  },
  {
   "cell_type": "code",
   "execution_count": 11,
   "id": "15443fe9",
   "metadata": {},
   "outputs": [],
   "source": [
    "# Create a driver instance\n",
    "driver = GraphDatabase.driver(uri=NEO4J_SERVER_URL, database=NEO4J_DB_NAME, auth=(NEO4J_LOGIN,NEO4J_PWD))\n",
    "\n",
    "# Function to run a Cypher query\n",
    "def run_query(query, parameters=None):\n",
    "    with driver.session() as session:\n",
    "        result = session.run(query, parameters or {})\n",
    "        return [record for record in result]"
   ]
  },
  {
   "cell_type": "code",
   "execution_count": 44,
   "id": "981f729d",
   "metadata": {},
   "outputs": [],
   "source": [
    "# Query 1\n",
    "search1 = \"Where does Alice work?\"\n",
    "\n",
    "# Query 2\n",
    "search2 = \"Who works for OpenWidgets?\"\n",
    "\n",
    "search3 = \"black\"\n",
    "search4 = \"describe happy people\""
   ]
  },
  {
   "cell_type": "code",
   "execution_count": 45,
   "id": "8526b738",
   "metadata": {},
   "outputs": [
    {
     "name": "stderr",
     "output_type": "stream",
     "text": [
      "C:\\Users\\jrdiouf\\AppData\\Local\\Temp\\ipykernel_15732\\3091842291.py:6: DeprecationWarning: Using a driver after it has been closed is deprecated. Future versions of the driver will raise an error.\n",
      "  with driver.session() as session:\n"
     ]
    },
    {
     "name": "stdout",
     "output_type": "stream",
     "text": [
      "<Record source_id='c20523608421863c3a78ff4411086b8c' source_url='People.jpg' similarity=0.610788709757223 r=<Relationship element_id='5:80c2cade-092b-451d-8eb1-e9319a127826:50' nodes=(<Node element_id='4:80c2cade-092b-451d-8eb1-e9319a127826:24' labels=frozenset() properties={}>, <Node element_id='4:80c2cade-092b-451d-8eb1-e9319a127826:25' labels=frozenset() properties={}>) type='MENTIONS' properties={}> dest_id='Group of Friends' dest_url=None>\n",
      "<Record source_id='c20523608421863c3a78ff4411086b8c' source_url='People.jpg' similarity=0.610788709757223 r=<Relationship element_id='5:80c2cade-092b-451d-8eb1-e9319a127826:51' nodes=(<Node element_id='4:80c2cade-092b-451d-8eb1-e9319a127826:24' labels=frozenset() properties={}>, <Node element_id='4:80c2cade-092b-451d-8eb1-e9319a127826:26' labels=frozenset() properties={}>) type='MENTIONS' properties={}> dest_id='Woman with red hair' dest_url=None>\n",
      "<Record source_id='c20523608421863c3a78ff4411086b8c' source_url='People.jpg' similarity=0.610788709757223 r=<Relationship element_id='5:80c2cade-092b-451d-8eb1-e9319a127826:52' nodes=(<Node element_id='4:80c2cade-092b-451d-8eb1-e9319a127826:24' labels=frozenset() properties={}>, <Node element_id='4:80c2cade-092b-451d-8eb1-e9319a127826:27' labels=frozenset() properties={}>) type='MENTIONS' properties={}> dest_id='Other women' dest_url=None>\n",
      "Okay, based on the context – a group of friends, including a woman with red hair and other women – here’s a description of happy people:\n",
      "\n",
      "Happy people within this group likely share a feeling of genuine connection and enjoyment. They’re probably laughing, engaging in comfortable conversation, and enjoying each other's company.  It suggests a sense of belonging and shared joy. The presence of a woman with red hair adds a visual element of vibrancy and perhaps a playful spirit to the scene, contributing to the overall feeling of happiness.  It’s a picture of friendship – a source of contentment and good times. \n",
      "\n",
      "Would you like me to elaborate on any specific aspect of this description, or perhaps focus on a particular detail from the context?\n"
     ]
    }
   ],
   "source": [
    "\n",
    "\n",
    "# Example: match all nodes\n",
    "search = search4\n",
    "\n",
    "query = \"\"\"\n",
    "MATCH (a)-[r]->(b)\n",
    "WITH a, b, gds.similarity.cosine(a.embedding, $query_embeddings) AS similarity, r\n",
    "ORDER BY similarity DESC\n",
    "LIMIT $top_k\n",
    "RETURN a.id AS source_id,  a.url as source_url, similarity, r, b.id AS dest_id,  b.url as dest_url\n",
    "\"\"\"\n",
    "\n",
    "\n",
    "params = {\"query_embeddings\": get_text_embedding(search), \"top_k\":3}\n",
    "results = run_query(query, params)\n",
    "\n",
    "# Print results\n",
    "for record in results:\n",
    "    print(record)\n",
    "\n",
    "search_ctx = format_context_for_rag(results)\n",
    "\n",
    "print(llm_txt_search(search,search_ctx))\n",
    "\n",
    "# Close driver when done\n",
    "driver.close()"
   ]
  },
  {
   "cell_type": "code",
   "execution_count": null,
   "id": "8850ec9a",
   "metadata": {},
   "outputs": [],
   "source": [
    "\"\"\"neo4j_graph_store = Neo4jGraphStore(\n",
    "    url=\"bolt://localhost:7687\",\n",
    "    username=neo4j_login,\n",
    "    password=neo4j_pwd\n",
    ")\n",
    "\n",
    "storage_context = StorageContext.from_defaults(graph_store=neo4j_graph_store)\n",
    "Settings.llm = llm\"\"\""
   ]
  },
  {
   "cell_type": "code",
   "execution_count": null,
   "id": "7e65220a",
   "metadata": {},
   "outputs": [
    {
     "name": "stderr",
     "output_type": "stream",
     "text": [
      "C:\\Users\\jrdiouf\\AppData\\Local\\Temp\\ipykernel_8688\\446176635.py:1: DeprecationWarning: Call to deprecated class KnowledgeGraphRAGRetriever. (KnowledgeGraphRAGRetriever is deprecated, it is recommended to use PropertyGraphIndex and associated retrievers instead.) -- Deprecated since version 0.10.53.\n",
      "  graph_rag_retriever = KnowledgeGraphRAGRetriever(storage_context=storage_context,verbose=True)\n"
     ]
    }
   ],
   "source": [
    "#graph_rag_retriever = KnowledgeGraphRAGRetriever(storage_context=storage_context,verbose=True)\n",
    "#query_engine = RetrieverQueryEngine.from_args(graph_rag_retriever)"
   ]
  },
  {
   "cell_type": "code",
   "execution_count": null,
   "id": "9ea8a29e",
   "metadata": {},
   "outputs": [],
   "source": []
  },
  {
   "cell_type": "code",
   "execution_count": null,
   "id": "b5510ef5",
   "metadata": {},
   "outputs": [],
   "source": [
    "\"\"\"def query_and_synthesize(query):\n",
    "    retrieved_context = query_engine.query(query)\n",
    "    response = get_response_synthesizer.synthesize(query, retrieved_context)\n",
    "    print(f\"Query: {query}\")\n",
    "    print(f\"Answer: {response}\\n\")\"\"\""
   ]
  },
  {
   "cell_type": "code",
   "execution_count": null,
   "id": "32551abc",
   "metadata": {},
   "outputs": [],
   "source": [
    "\"\"\"# Initialize the ResponseSynthesizer instance\n",
    "response_synthesizer = get_response_synthesizer(llm)\n",
    "\n",
    "# Query 1\n",
    "query_and_synthesize(\"Where does Alice work?\")\n",
    "\n",
    "# Query 2\n",
    "query_and_synthesize(\"Who works for OpenWidgets?\")\n",
    "\n",
    "# Query 3\n",
    "query_and_synthesize(\"Does Bob work for the same company as Alice ?\")\"\"\""
   ]
  },
  {
   "cell_type": "code",
   "execution_count": null,
   "id": "5c6fc31d",
   "metadata": {},
   "outputs": [],
   "source": [
    "\"\"\"documents = [\n",
    "  \"Llamas are members of the camelid family meaning they're pretty closely related to vicuñas and camels\",\n",
    "  \"Llamas were first domesticated and used as pack animals 4,000 to 5,000 years ago in the Peruvian highlands\",\n",
    "  \"Llamas can grow as much as 6 feet tall though the average llama between 5 feet 6 inches and 5 feet 9 inches tall\",\n",
    "  \"Llamas weigh between 280 and 450 pounds and can carry 25 to 30 percent of their body weight\",\n",
    "  \"Llamas are vegetarians and have very efficient digestive systems\",\n",
    "  \"Llamas live to be about 20 years old, though some only live for 15 years and others live to be 30 years old\",\n",
    "]\n",
    "\n",
    "txt_embeddings = []\n",
    "\n",
    "for i, d in enumerate(documents):\n",
    "  response = ollama.embed(model=TEXT_EMBEDDING_MODEL, input=d)\n",
    "  txt_embedding = response[\"embeddings\"]\n",
    "\n",
    "  txt_embeddings.append(txt_embedding)\n",
    "  \n",
    "  print(txt_embedding)\n",
    "  print(len(txt_embedding[0]))\"\"\""
   ]
  }
 ],
 "metadata": {
  "kernelspec": {
   "display_name": "DIT_DL2",
   "language": "python",
   "name": "python3"
  },
  "language_info": {
   "codemirror_mode": {
    "name": "ipython",
    "version": 3
   },
   "file_extension": ".py",
   "mimetype": "text/x-python",
   "name": "python",
   "nbconvert_exporter": "python",
   "pygments_lexer": "ipython3",
   "version": "3.13.2"
  }
 },
 "nbformat": 4,
 "nbformat_minor": 5
}
